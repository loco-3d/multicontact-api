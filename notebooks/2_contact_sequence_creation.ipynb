{
  "cells": [
  {
   "cell_type": "markdown",
   "metadata": {},
   "source": [
    "# Creation of a contact sequence\n",
    "\n",
    "In this second notebook, we will manually create a contact sequence from a predefined gait. Then, we will add some centroidal data to the contact sequence and export it. \n",
    "\n",
    "## Contact plan\n",
    "\n",
    "In this section we will create a contact sequence for a bipedal robot, with a gait alterning double support phases and single support phases, for a simple walking motion. \n",
    "\n",
    "First, we need to create the first contact phase: a phase with both feet in contact with a flat floor at `z=0`. All the values here are taken for the robot Talos."
   ]
  },
  {
   "cell_type": "code",
   "execution_count": 1,
   "metadata": {},
   "outputs": [
    {
     "name": "stdout",
     "output_type": "stream",
     "text": [
      "First phase: \n",
      " Contact phase defined for t \\in [-1;-1]\n",
      "Conecting (c0,dc0,ddc0,L0,dL0) = \n",
      "0 0 0 0 0\n",
      "0 0 0 0 0\n",
      "0 0 0 0 0\n",
      "to        (c0,dc0,ddc0,L0,dL0) = \n",
      "0 0 0 0 0\n",
      "0 0 0 0 0\n",
      "0 0 0 0 0\n",
      "Effectors in contact 2 : \n",
      "______________________________________________\n",
      "Effector leg_right_sole_fix_joint contact patch:\n",
      "Placement:\n",
      "  R =\n",
      "1 0 0\n",
      "0 1 0\n",
      "0 0 1\n",
      "  p =      0 -0.085      0\n",
      "\n",
      "ContactModel : ContactType: 0, mu: -1\n",
      "Number of contact points: 1, positions: \n",
      "0\n",
      "0\n",
      "0\n",
      "\n",
      "\n",
      "Has contact force trajectory : 0\n",
      "Has contact normal force trajectory : 0\n",
      "______________________________________________\n",
      "Effector leg_left_sole_fix_joint contact patch:\n",
      "Placement:\n",
      "  R =\n",
      "1 0 0\n",
      "0 1 0\n",
      "0 0 1\n",
      "  p =     0 0.085     0\n",
      "\n",
      "ContactModel : ContactType: 0, mu: -1\n",
      "Number of contact points: 1, positions: \n",
      "0\n",
      "0\n",
      "0\n",
      "\n",
      "\n",
      "Has contact force trajectory : 0\n",
      "Has contact normal force trajectory : 0\n",
      "\n"
     ]
    }
   ],
   "source": [
    "# Import the required lib\n",
    "import numpy as np\n",
    "from pinocchio import SE3\n",
    "from multicontact_api import (\n",
    "    ContactType,\n",
    "    ContactModel,\n",
    "    ContactPatch,\n",
    "    ContactPhase,\n",
    "    ContactSequence,\n",
    ")\n",
    "\n",
    "# Define the name of the contacts.\n",
    "# As explained in the previous notebook, a good practice is to use the names of the frames as defined in the urdf\n",
    "rf_name = \"leg_right_sole_fix_joint\"\n",
    "lf_name = \"leg_left_sole_fix_joint\"\n",
    "\n",
    "OFFSET_Y = (\n",
    "    0.085  # the position along the y axis of the feet in the reference configuration\n",
    ")\n",
    "\n",
    "# Create a contact phase:\n",
    "p0 = ContactPhase()\n",
    "\n",
    "# Define the placement of each contact:\n",
    "placement_rf = SE3.Identity()\n",
    "placement_lf = SE3.Identity()\n",
    "translation_rf = np.array([0, -OFFSET_Y, 0])\n",
    "translation_lf = np.array([0, OFFSET_Y, 0])\n",
    "placement_rf.translation = translation_rf\n",
    "placement_lf.translation = translation_lf\n",
    "\n",
    "# Add both contacts to the contact phase:\n",
    "p0.addContact(rf_name, ContactPatch(placement_rf))\n",
    "p0.addContact(lf_name, ContactPatch(placement_lf))\n",
    "\n",
    "print(\"First phase: \\n\", p0)"
   ]
  },
  {
   "cell_type": "markdown",
   "metadata": {},
   "source": [
    "As you can see in the print, a lot of data in this contact phase are undefined, we will fill this data.\n",
    "Now we can create an empty contact sequence and set this phase as the first one of the sequence:"
   ]
  },
  {
   "cell_type": "code",
   "execution_count": 2,
   "metadata": {},
   "outputs": [
    {
     "name": "stdout",
     "output_type": "stream",
     "text": [
      "Current size of the sequence :  1\n"
     ]
    }
   ],
   "source": [
    "cs = ContactSequence()\n",
    "cs.append(p0)\n",
    "print(\"Current size of the sequence : \", cs.size())"
   ]
  },
  {
   "cell_type": "markdown",
   "metadata": {},
   "source": [
    "Now we can add more phases to define the walking motion. The final contact plan will consist of 5 steps for each leg of 20cm forward (with the first and last step only 10cm), thus moving the robot of 1m forward. Let's create the first step, remenber that in our formulation there should only be one contact variation (creation OR removing) between each adjacent phases, one step is thus two contact phases: single support and double support."
   ]
  },
  {
   "cell_type": "code",
   "execution_count": 3,
   "metadata": {},
   "outputs": [
    {
     "name": "stdout",
     "output_type": "stream",
     "text": [
      "number of contact phases in the contact sequence :  3\n",
      "# Right feet contact of phase 0:  True\n",
      "  R =\n",
      "1 0 0\n",
      "0 1 0\n",
      "0 0 1\n",
      "  p =      0 -0.085      0\n",
      "\n",
      "# Left feet contact of phase 0:  True\n",
      "  R =\n",
      "1 0 0\n",
      "0 1 0\n",
      "0 0 1\n",
      "  p =     0 0.085     0\n",
      "\n",
      "# Right feet contact of phase 1:  False\n",
      "# Left feet contact of phase 1:  True\n",
      "  R =\n",
      "1 0 0\n",
      "0 1 0\n",
      "0 0 1\n",
      "  p =     0 0.085     0\n",
      "\n",
      "# Right feet contact of phase 2:  True\n",
      "  R =\n",
      "1 0 0\n",
      "0 1 0\n",
      "0 0 1\n",
      "  p =    0.1 -0.085      0\n",
      "\n",
      "# Left feet contact of phase 2:  True\n",
      "  R =\n",
      "1 0 0\n",
      "0 1 0\n",
      "0 0 1\n",
      "  p =     0 0.085     0\n",
      "\n"
     ]
    }
   ],
   "source": [
    "# First, create a new phase where we break the right feet contact:\n",
    "p1 = ContactPhase(p0)  # copy the previous double support phase\n",
    "p1.removeContact(rf_name)\n",
    "\n",
    "# Now, add it to the sequence:\n",
    "cs.append(p1)\n",
    "\n",
    "# Then, create the second double support phase by creating a new contact with the right foot:\n",
    "placement_rf = SE3.Identity()\n",
    "translation_rf[0] = 0.1  # move 10cm along the x axis\n",
    "placement_rf.translation = translation_rf\n",
    "\n",
    "p2 = ContactPhase(p1)  # copy the previous phase\n",
    "p2.addContact(rf_name, ContactPatch(placement_rf))\n",
    "\n",
    "# Now, add it to the sequence:\n",
    "cs.append(p2)\n",
    "\n",
    "# Lets print the result:\n",
    "print(\"number of contact phases in the contact sequence : \", cs.size())\n",
    "\n",
    "# first phase:\n",
    "print(\n",
    "    \"# Right feet contact of phase 0: \",\n",
    "    cs.contactPhases[0].isEffectorInContact(rf_name),\n",
    ")\n",
    "print(cs.contactPhases[0].contactPatch(rf_name).placement)\n",
    "print(\n",
    "    \"# Left feet contact of phase 0: \", cs.contactPhases[0].isEffectorInContact(lf_name)\n",
    ")\n",
    "print(cs.contactPhases[0].contactPatch(lf_name).placement)\n",
    "# second phase:\n",
    "print(\n",
    "    \"# Right feet contact of phase 1: \",\n",
    "    cs.contactPhases[1].isEffectorInContact(rf_name),\n",
    ")\n",
    "print(\n",
    "    \"# Left feet contact of phase 1: \", cs.contactPhases[1].isEffectorInContact(lf_name)\n",
    ")\n",
    "print(cs.contactPhases[1].contactPatch(lf_name).placement)\n",
    "# Third phase:\n",
    "print(\n",
    "    \"# Right feet contact of phase 2: \",\n",
    "    cs.contactPhases[2].isEffectorInContact(rf_name),\n",
    ")\n",
    "print(cs.contactPhases[2].contactPatch(rf_name).placement)\n",
    "print(\n",
    "    \"# Left feet contact of phase 2: \", cs.contactPhases[2].isEffectorInContact(lf_name)\n",
    ")\n",
    "print(cs.contactPhases[2].contactPatch(lf_name).placement)"
   ]
  },
  {
   "cell_type": "markdown",
   "metadata": {},
   "source": [
    "As expected we now have a contact sequence with 3 phases: a double support, a single support and a double support. The code above is quite verbose, fortunately several helper methods exist to achieve the same result easier. Lets create the second step with the left foot with this helpers:"
   ]
  },
  {
   "cell_type": "code",
   "execution_count": 4,
   "metadata": {},
   "outputs": [
    {
     "name": "stdout",
     "output_type": "stream",
     "text": [
      "Current contact sequence size:  5\n"
     ]
    }
   ],
   "source": [
    "# This method add a new contact phase to the sequence,\n",
    "# copy the contacts from the previous phase exept the one specified\n",
    "cs.breakContact(lf_name)\n",
    "\n",
    "translation_lf[0] = 0.2  # move 20cm forward\n",
    "placement_lf.translation = translation_lf\n",
    "\n",
    "# This method add a new contact phase to the sequence,\n",
    "# copy the contacts from the previous phase and add the one specified\n",
    "cs.createContact(lf_name, ContactPatch(placement_lf))\n",
    "\n",
    "print(\"Current contact sequence size: \", cs.size())"
   ]
  },
  {
   "cell_type": "markdown",
   "metadata": {},
   "source": [
    "For the next steps, we will use another helper usefull for gaited motion. This method is used to \"reposition\" a contact and automatically add the intermediate contact phase with the broken contact. "
   ]
  },
  {
   "cell_type": "code",
   "execution_count": 5,
   "metadata": {},
   "outputs": [
    {
     "name": "stdout",
     "output_type": "stream",
     "text": [
      "Final contact sequence size:  23\n",
      "Right foot position at the end of the motion: \n",
      " [ 1.    -0.085  0.   ]\n",
      "Left foot position at the end of the motion: \n",
      " [1.    0.085 0.   ]\n"
     ]
    }
   ],
   "source": [
    "# First define the step length:\n",
    "displacement = SE3.Identity()\n",
    "displacement.translation = np.array([0.2, 0, 0])  # 20cm forward\n",
    "\n",
    "for _ in range(4):\n",
    "    cs.moveEffectorOf(rf_name, displacement)\n",
    "    cs.moveEffectorOf(lf_name, displacement)\n",
    "\n",
    "# add the last step of only 10cm to end the motion with both feet side by side:\n",
    "displacement.translation = np.array([0.1, 0, 0])\n",
    "cs.moveEffectorOf(rf_name, displacement)\n",
    "\n",
    "print(\"Final contact sequence size: \", cs.size())\n",
    "print(\n",
    "    \"Right foot position at the end of the motion: \\n\",\n",
    "    cs.contactPhases[-1].contactPatch(rf_name).placement.translation,\n",
    ")\n",
    "print(\n",
    "    \"Left foot position at the end of the motion: \\n\",\n",
    "    cs.contactPhases[-1].contactPatch(lf_name).placement.translation,\n",
    ")"
   ]
  },
  {
   "cell_type": "markdown",
   "metadata": {},
   "source": [
    "At this point the contact sequence define a consistent contact plan, we can check this with the following method:"
   ]
  },
  {
   "cell_type": "code",
   "execution_count": 6,
   "metadata": {},
   "outputs": [
    {
     "data": {
      "text/plain": [
       "True"
      ]
     },
     "execution_count": 6,
     "metadata": {},
     "output_type": "execute_result"
    }
   ],
   "source": [
    "cs.haveConsistentContacts()"
   ]
  },
  {
   "cell_type": "markdown",
   "metadata": {},
   "source": [
    "This method check that there is no discontinuities between the phases, and that there is always 1 contact variation between each phases.\n",
    "\n",
    "\n",
    "### Additionnal data\n",
    "\n",
    "#### Contact model\n",
    "\n",
    "The Contact phases created do not specify any contact model (see the previous notebook for more information about this). We can check that the contact model are indeed not defined with the following code:\n"
   ]
  },
  {
   "cell_type": "code",
   "execution_count": 7,
   "metadata": {},
   "outputs": [
    {
     "name": "stdout",
     "output_type": "stream",
     "text": [
      "Friction coefficient defined for all contacts:  False\n",
      "Contact models defined for all contacts:  False\n"
     ]
    }
   ],
   "source": [
    "print(\"Friction coefficient defined for all contacts: \", cs.haveFriction())\n",
    "print(\"Contact models defined for all contacts: \", cs.haveContactModelDefined())"
   ]
  },
  {
   "cell_type": "markdown",
   "metadata": {},
   "source": [
    " We can create a contact model specific to the robot feet and assign it to all the contact patches of all phases with this code:"
   ]
  },
  {
   "cell_type": "code",
   "execution_count": 8,
   "metadata": {},
   "outputs": [
    {
     "name": "stdout",
     "output_type": "stream",
     "text": [
      "Friction coefficient defined for all contacts:  True\n",
      "Contact models defined for all contacts:  True\n"
     ]
    }
   ],
   "source": [
    "# Create a contact model with a friction coefficient of 0.5 and the PLANAR type\n",
    "contact_model = ContactModel(0.5, ContactType.CONTACT_PLANAR)\n",
    "\n",
    "# Define 4 contacts points at the corners of a rectangle:\n",
    "contact_model.num_contact_points = 4\n",
    "\n",
    "lx = 0.2 / 2.0  # half size of the feet along x axis\n",
    "ly = 0.13 / 2.0  # half size of the feet along y axis\n",
    "\n",
    "contact_points = np.zeros([3, 4])\n",
    "contact_points[0, :] = [-lx, -lx, lx, lx]\n",
    "contact_points[1, :] = [-ly, ly, -ly, ly]\n",
    "contact_model.contact_points_positions = contact_points\n",
    "\n",
    "# Now, add this model to all patches of all phases:\n",
    "\n",
    "for phase in cs.contactPhases:\n",
    "    for ee_name in phase.effectorsInContact():\n",
    "        phase.contactPatch(ee_name).contact_model = contact_model\n",
    "\n",
    "\n",
    "print(\"Friction coefficient defined for all contacts: \", cs.haveFriction())\n",
    "print(\"Contact models defined for all contacts: \", cs.haveContactModelDefined())"
   ]
  },
  {
   "cell_type": "markdown",
   "metadata": {},
   "source": [
    "#### Phase duration\n",
    "\n",
    "As explained in the previous notebook, a contact phase may be defined on a specific time interval. We can check if this is correctly defined for all the phases and that the timings are consistent with the following method:"
   ]
  },
  {
   "cell_type": "code",
   "execution_count": 9,
   "metadata": {},
   "outputs": [
    {
     "data": {
      "text/plain": [
       "False"
      ]
     },
     "execution_count": 9,
     "metadata": {},
     "output_type": "execute_result"
    }
   ],
   "source": [
    "cs.haveTimings()"
   ]
  },
  {
   "cell_type": "markdown",
   "metadata": {},
   "source": [
    "The code below set the duration for all the phases, depending on the number of contacts of this phase. We are going to define long phase duration here because in the next section we are going to generate a quasi-static centroidal reference."
   ]
  },
  {
   "cell_type": "code",
   "execution_count": 10,
   "metadata": {
    "scrolled": true
   },
   "outputs": [
    {
     "name": "stdout",
     "output_type": "stream",
     "text": [
      "Contact sequence have consistent timings:  True\n"
     ]
    }
   ],
   "source": [
    "DURATION_SS = 2.0  # duration of the single support phases\n",
    "DURATION_DS = 4.0  # duration of the double support phases\n",
    "\n",
    "for i, phase in enumerate(cs.contactPhases):\n",
    "    if i == 0:\n",
    "        phase.timeInitial = 0.0\n",
    "    else:\n",
    "        # Set the initial time as the final time of the previous phase\n",
    "        phase.timeInitial = cs.contactPhases[i - 1].timeFinal\n",
    "    # set the duration of the phase based on the number of contacts\n",
    "    if phase.numContacts() == 1:\n",
    "        phase.duration = DURATION_SS\n",
    "    elif phase.numContacts() == 2:\n",
    "        phase.duration = DURATION_DS\n",
    "    else:\n",
    "        raise RuntimeError(\"Incorrect number of contacts for the phase \" + str(i))\n",
    "\n",
    "# Check that the timings are correctly set :\n",
    "print(\"Contact sequence have consistent timings: \", cs.haveTimings())"
   ]
  },
  {
   "cell_type": "markdown",
   "metadata": {},
   "source": [
    "## Centroidal data\n",
    "\n",
    "Now that the contact sequence correctly define a contact plan, we are going to store centroidal data to the sequence: the center of mass position, velocity and acceleration trajectory. \n",
    "As this notebook is about the multicontact_api package and not about centroidal trajectory optimization, we are going to use really simple and quasi-static trajectory:\n",
    "\n",
    "During the single support phases, the CoM is fixed above the center of the support polygon. During the double support phases, the CoM will go from the previous support polygon to the next one in a straight line (starting and ending with a null velocity and acceleration).\n",
    "\n",
    "First, we need to compute the initial and final CoM position for each phases, the CoM velocity and acceleration are initialized to 0 by defaut so we do not need to modify it here."
   ]
  },
  {
   "cell_type": "code",
   "execution_count": 11,
   "metadata": {},
   "outputs": [
    {
     "name": "stdout",
     "output_type": "stream",
     "text": [
      "Final CoM position:  [1.   0.   0.85]\n"
     ]
    }
   ],
   "source": [
    "# Define the CoM height:\n",
    "COM_HEIGHT = 0.85\n",
    "\n",
    "\n",
    "for i, phase in enumerate(cs.contactPhases):\n",
    "    if i == 0:\n",
    "        # Define the initial CoM position:\n",
    "        cs.contactPhases[0].c_init = np.array([0, 0, COM_HEIGHT])\n",
    "    elif phase.numContacts() == 1:\n",
    "        # Single support phase: set the CoM position above the feet in contact:\n",
    "        com = phase.contactPatch(phase.effectorsInContact()[0]).placement.translation\n",
    "        com[2] += COM_HEIGHT\n",
    "        phase.c_init = com\n",
    "        # The CoM is not moving during single support phase, so we set the same position as the final point\n",
    "        phase.c_final = com\n",
    "        # Set the final point of the previous double support phase to be the same as this position\n",
    "        cs.contactPhases[i - 1].c_final = com\n",
    "    elif phase.numContacts() == 2:\n",
    "        # Double support phase:\n",
    "        # set the initial CoM position to be equal to the final position of the previous phase\n",
    "        phase.c_init = cs.contactPhases[i - 1].c_final\n",
    "    else:\n",
    "        raise RuntimeError(\"Incorrect number of contacts for the phase \" + str(i))\n",
    "\n",
    "# For the final phase: set the final position between the feets:\n",
    "com = (\n",
    "    phase.contactPatch(rf_name).placement.translation\n",
    "    + phase.contactPatch(lf_name).placement.translation\n",
    ") / 2.0\n",
    "com[2] += COM_HEIGHT\n",
    "phase.c_final = com\n",
    "\n",
    "print(\"Final CoM position: \", cs.contactPhases[-1].c_final)"
   ]
  },
  {
   "cell_type": "markdown",
   "metadata": {},
   "source": [
    "We can check that the position for all the phases have been set and that the initial position of each phase match the final position of the previous phase like this:"
   ]
  },
  {
   "cell_type": "code",
   "execution_count": 12,
   "metadata": {},
   "outputs": [
    {
     "data": {
      "text/plain": [
       "True"
      ]
     },
     "execution_count": 12,
     "metadata": {},
     "output_type": "execute_result"
    }
   ],
   "source": [
    "cs.haveCentroidalValues()"
   ]
  },
  {
   "cell_type": "markdown",
   "metadata": {},
   "source": [
    "Now we can generate trajectories for each phases. For the single support phases we will use Constant trajectories. For the double support phases we will use fifth order polynomials that connect the initial and final position and have a null initial and final velocity and acceleration. \n",
    "\n",
    "As explained in the previous notebook, this trajectories must be represented with objects from the `NDCurves` package.\n"
   ]
  },
  {
   "cell_type": "code",
   "execution_count": 15,
   "metadata": {
    "scrolled": true
   },
   "outputs": [
    {
     "name": "stdout",
     "output_type": "stream",
     "text": [
      "Contact sequence have consistent CoM trajectories:  True\n"
     ]
    }
   ],
   "source": [
    "from ndcurves import polynomial\n",
    "\n",
    "for phase in cs.contactPhases:\n",
    "    if phase.numContacts() == 1:\n",
    "        # Single support phase: build a constant trajectory at the CoM position:\n",
    "        phase.c_t = polynomial(\n",
    "            phase.c_init, phase.timeInitial, phase.timeFinal\n",
    "        )  # Build a degree 0 polynomial curve\n",
    "        # Compute the derivate of this curve and store it in the phase\n",
    "        phase.dc_t = phase.c_t.compute_derivate(1)\n",
    "        phase.ddc_t = phase.dc_t.compute_derivate(1)\n",
    "    elif phase.numContacts() == 2:\n",
    "        # Double support phase: build a minJerk trajectory (5th degree) between the initial and final CoM position\n",
    "        phase.c_t = polynomial.MinimumJerk(\n",
    "            phase.c_init, phase.c_final, phase.timeInitial, phase.timeFinal\n",
    "        )\n",
    "        phase.dc_t = phase.c_t.compute_derivate(1)\n",
    "        phase.ddc_t = phase.dc_t.compute_derivate(1)\n",
    "    else:\n",
    "        raise RuntimeError(\"Incorrect number of contacts.\")\n",
    "\n",
    "\n",
    "# Check that all the phases have CoM trajectories:\n",
    "print(\"Contact sequence have consistent CoM trajectories: \", cs.haveCOMtrajectories())"
   ]
  },
  {
   "cell_type": "markdown",
   "metadata": {},
   "source": [
    "## Conclusion\n",
    "\n",
    "In this notebook we saw how to manually build a `ContactSequence` from scratch. Adding several phases with contact placement and time interval. Then adding CoM trajectories for each phases. \n",
    "\n",
    "In the next notebook we will se how to use the data inside a contact sequence, plot it and display it on a 3D viewer. \n",
    "\n",
    "The last code below show how to export the ContactSequence build in this notebook to a file. "
   ]
  },
  {
   "cell_type": "code",
   "execution_count": 16,
   "metadata": {},
   "outputs": [],
   "source": [
    "# Serialize the contact sequence\n",
    "cs.saveAsBinary(\"notebook2.cs\")"
   ]
  }
 ],
 "metadata": {
  "kernelspec": {
   "display_name": "Python 3",
   "language": "python",
   "name": "python3"
  },
  "language_info": {
   "codemirror_mode": {
    "name": "ipython",
    "version": 3
   },
   "file_extension": ".py",
   "mimetype": "text/x-python",
   "name": "python",
   "nbconvert_exporter": "python",
   "pygments_lexer": "ipython3",
   "version": "3.6.9"
  }
 },
 "nbformat": 4,
 "nbformat_minor": 4
}
