{
  "cells": [
  {
   "cell_type": "markdown",
   "metadata": {},
   "source": [
    "## Introduction\n",
    "\n",
    "This package provide C++ structures with python bindings used to define and store contact phases and contact sequences. \n",
    "\n",
    "The classes defined by this package are able to store a wide variety of data related to the locomotion of legged robots. This classes can be efficiently serialized and used to share motions or any \"part\" of motion (eg. contact plan or centroidal reference) between frameworks and users. \n",
    "\n",
    "In this package, the different classes do not have access to any robot model and only store the data given by an user. There is nothing to check that the different data stored are consistent together or valid (eg. there could be a contact placement for a feet defined at a given time, but also a wholebody configuration defined for the same time where the feet is at a different position).\n",
    "\n",
    "However, a couple of methods are available to check that part of the data are correctly defined, are continuous and/or have consistent time definition. See the last section of this notebook for more details. \n",
    "\n",
    "\n",
    "\n",
    "## Main classes\n",
    "\n",
    "This package define 4 main classes representing physical concepts of legged locomotion. Contact Model, Contact Patch, Contact Phase and Contact Sequence.\n",
    "\n",
    "A Contact Model define the physical properties of a contact. A Contact Patch define completely a contact between a part of the robot and the environment, it contain a Contact Model. A Contact Phase is defined by a constant set of contacts, it contains one or more Contact Patches. Finally, a Contact Sequence is a sequence of Contact Phases.\n",
    "\n",
    "### Contact Model\n",
    "\n",
    "\n",
    "A Contact Model define the physical properties of a contact: the type of contact (Planar or Point), the physical positions of the contact points with respect to the \"center\" of the contact, and the coefficient of friction for this contact. "
   ]
  },
  {
   "cell_type": "code",
   "execution_count": 1,
   "metadata": {},
   "outputs": [
    {
     "name": "stdout",
     "output_type": "stream",
     "text": [
      "Contact Type:  CONTACT_UNDEFINED\n",
      "Friction coefficient:  -1.0\n"
     ]
    }
   ],
   "source": [
    "import numpy as np\n",
    "from multicontact_api import ContactType, ContactModel\n",
    "\n",
    "cm_default = ContactModel()\n",
    "print(\"Contact Type: \", cm_default.contact_type)\n",
    "print(\"Friction coefficient: \", cm_default.mu)"
   ]
  },
  {
   "cell_type": "markdown",
   "metadata": {},
   "source": [
    "The default constructor create a `ContactModel` with \"undefined\" values. Other constructors exist to build a `ContactModel` with a friction coefficient or a contact type:"
   ]
  },
  {
   "cell_type": "code",
   "execution_count": 22,
   "metadata": {},
   "outputs": [
    {
     "name": "stdout",
     "output_type": "stream",
     "text": [
      "cm1 friction coefficient: 0.5\n",
      "cm1 Contact Type:  CONTACT_UNDEFINED\n",
      "\n",
      "cm2 friction coefficient: 0.9\n",
      "cm2 Contact Type:  CONTACT_POINT\n",
      "cm2 number of contact points:  1\n",
      "cm2 contact point position:  [0. 0. 0.]\n"
     ]
    }
   ],
   "source": [
    "cm1 = ContactModel(0.5)\n",
    "print(\"cm1 friction coefficient:\", cm1.mu)\n",
    "print(\"cm1 Contact Type: \", cm1.contact_type)\n",
    "\n",
    "cm2 = ContactModel(0.9, ContactType.CONTACT_POINT)\n",
    "print(\"\\ncm2 friction coefficient:\", cm2.mu)\n",
    "print(\"cm2 Contact Type: \", cm2.contact_type)\n",
    "print(\"cm2 number of contact points: \", cm2.num_contact_points)\n",
    "print(\"cm2 contact point position: \", cm2.contact_points_positions)"
   ]
  },
  {
   "cell_type": "markdown",
   "metadata": {},
   "source": [
    "The contact point position are expressed in the contact frame (see the next section for more details). By default they are positionned at the origin. It is also possible to create contact model for planar contacts and define the contacts positions at the corners of a rectangular feet:"
   ]
  },
  {
   "cell_type": "code",
   "execution_count": 23,
   "metadata": {},
   "outputs": [
    {
     "name": "stdout",
     "output_type": "stream",
     "text": [
      "cm_planar: \n",
      " ContactType: 1, mu: 0.5\n",
      "Number of contact points: 4, positions: \n",
      "  -0.1   -0.1    0.1    0.1\n",
      "-0.065  0.065 -0.065  0.065\n",
      "     0      0      0      0\n",
      "\n"
     ]
    }
   ],
   "source": [
    "cm_planar = ContactModel(0.5, ContactType.CONTACT_PLANAR)\n",
    "# define 4 contacts points at the corners of a rectangle:\n",
    "cm_planar.num_contact_points = 4\n",
    "\n",
    "lx = 0.2 / 2.0  # half size of the feet along x axis\n",
    "ly = 0.13 / 2.0  # half size of the feet along y axis\n",
    "\n",
    "contact_points = np.zeros([3, 4])\n",
    "contact_points[0, :] = [-lx, -lx, lx, lx]\n",
    "contact_points[1, :] = [-ly, ly, -ly, ly]\n",
    "\n",
    "cm_planar.contact_points_positions = contact_points\n",
    "# print the contact model data:\n",
    "\n",
    "print(\"cm_planar: \\n\", cm_planar)"
   ]
  },
  {
   "cell_type": "markdown",
   "metadata": {},
   "source": [
    "### Contact Patch\n",
    "\n",
    "A contact patch define the placement (in SE(3), in the world frame) of a contact between a part of the robot and the environment. It contains a `ContactModel`.\n",
    "\n",
    "The main constructor take as input the placement as an SE(3) object from Pinocchio and a `ContactModel` as previously defined. "
   ]
  },
  {
   "cell_type": "code",
   "execution_count": 24,
   "metadata": {},
   "outputs": [
    {
     "name": "stdout",
     "output_type": "stream",
     "text": [
      "patch: \n",
      " Placement:\n",
      "  R =\n",
      "  0.740419  -0.428065   0.518208\n",
      "  0.421023  -0.305616  -0.854013\n",
      "  0.523946   0.850505 -0.0460591\n",
      "  p = -0.563486 0.0258648  0.678224\n",
      "\n",
      "ContactModel : ContactType: 1, mu: 0.5\n",
      "Number of contact points: 4, positions: \n",
      "  -0.1   -0.1    0.1    0.1\n",
      "-0.065  0.065 -0.065  0.065\n",
      "     0      0      0      0\n",
      "\n",
      "\n"
     ]
    }
   ],
   "source": [
    "from pinocchio import SE3, Quaternion\n",
    "from multicontact_api import ContactPatch\n",
    "\n",
    "placement = SE3()\n",
    "placement.setRandom()\n",
    "\n",
    "patch = ContactPatch(placement, cm_planar)\n",
    "\n",
    "print(\"patch: \\n\", patch)"
   ]
  },
  {
   "cell_type": "markdown",
   "metadata": {},
   "source": [
    "The placement defined here is the placement of the origin of the 'contact frame'. As explained in the previous section the physical contact points positions may be different than this placement and they are expressed in this contact frame. In the previous example, the position of the front left corner of the feet, in the world frame is computed as follow:"
   ]
  },
  {
   "cell_type": "code",
   "execution_count": 5,
   "metadata": {},
   "outputs": [
    {
     "name": "stdout",
     "output_type": "stream",
     "text": [
      "[ 0.27524087 -0.30677788  0.13904126]\n"
     ]
    }
   ],
   "source": [
    "pos_RF = patch.placement * patch.contact_model.contact_points_positions[:, 3]\n",
    "print(pos_RF)"
   ]
  },
  {
   "cell_type": "markdown",
   "metadata": {},
   "source": [
    "Other constructors exist to build a `ContactPatch` without requiring to build a `ContactModel`:"
   ]
  },
  {
   "cell_type": "code",
   "execution_count": 25,
   "metadata": {},
   "outputs": [
    {
     "name": "stdout",
     "output_type": "stream",
     "text": [
      "patch2:\n",
      " Placement:\n",
      "  R =\n",
      " -0.22528  0.817598 -0.529889\n",
      "-0.394879  0.420576  0.816814\n",
      " 0.890685  0.393254  0.228105\n",
      "  p = 0.0485744 -0.012834   0.94555\n",
      "\n",
      "ContactModel : ContactType: 0, mu: 0.5\n",
      "Number of contact points: 1, positions: \n",
      "0\n",
      "0\n",
      "0\n",
      "\n",
      "\n",
      "patch3:\n",
      " Placement:\n",
      "  R =\n",
      "  0.414966  -0.909316  0.0307914\n",
      "  0.868596   0.406004    0.28408\n",
      "  -0.27082 -0.0911383   0.958306\n",
      "  p =  0.539828 -0.199543  0.783059\n",
      "\n",
      "ContactModel : ContactType: 0, mu: -1\n",
      "Number of contact points: 1, positions: \n",
      "0\n",
      "0\n",
      "0\n",
      "\n",
      "\n"
     ]
    }
   ],
   "source": [
    "p2 = SE3()\n",
    "p2.setRandom()\n",
    "patch2 = ContactPatch(\n",
    "    p2, 0.5\n",
    ")  # constructor with only a placement and a friction coefficient\n",
    "print(\"patch2:\\n\", patch2)\n",
    "\n",
    "p3 = SE3()\n",
    "p3.setRandom()\n",
    "patch3 = ContactPatch(p3)  # constructor with only a placement\n",
    "print(\"patch3:\\n\", patch3)"
   ]
  },
  {
   "cell_type": "markdown",
   "metadata": {},
   "source": [
    "With these constructors, the `ContactModel` type is undefined and there is a single contact point at the origin of the frame."
   ]
  },
  {
   "cell_type": "markdown",
   "metadata": {},
   "source": [
    "### Contact Phase\n",
    "\n",
    "A contact phase is defined by a constant set of contact points. In the context of bipedal walking, two examples of contact phases are the single and double support phases.\n",
    "\n",
    "The most important member of the `ContactPhase` is thus a `map<EffectorName, ContactPatch>` defining the set of contact between a specific part of the robot and the environment."
   ]
  },
  {
   "cell_type": "code",
   "execution_count": 1,
   "metadata": {},
   "outputs": [
    {
     "data": {
      "text/plain": [
       "True"
      ]
     },
     "execution_count": 7,
     "metadata": {},
     "output_type": "execute_result"
    }
   ],
   "source": [
    "from multicontact_api import ContactPhase\n",
    "\n",
    "\n",
    "cp = ContactPhase()\n",
    "cp.addContact(\"right-feet\", patch2)\n",
    "cp.addContact(\"left-feet\", patch3)"
   ]
  },
  {
   "cell_type": "markdown",
   "metadata": {},
   "source": [
    "The string argument choice is left to the user and is not required to match anything specifc. However, a good practice when working with a real robot model is to use the name of the frame of the robot creating the contact, as specified in the URDF.\n",
    "\n",
    "The `ContactPhase` class have several methods to access to the contacts already added:"
   ]
  },
  {
   "cell_type": "code",
   "execution_count": 8,
   "metadata": {},
   "outputs": [
    {
     "name": "stdout",
     "output_type": "stream",
     "text": [
      "number of contacts:  2\n",
      "effectors in contact:  ['right-feet', 'left-feet']\n",
      "Is 'right-feet' in contact:  True\n",
      "Is 'right-hand' in contact:  False\n",
      "\n",
      " Contact placement of the right feet: \n",
      "   R =\n",
      " 0.444451 -0.414554  0.794109\n",
      " 0.175408 -0.829041 -0.530964\n",
      " 0.878462  0.375281 -0.295751\n",
      "  p =  0.257742 -0.270431 0.0268018\n",
      "\n"
     ]
    }
   ],
   "source": [
    "print(\"number of contacts: \", cp.numContacts())\n",
    "print(\"effectors in contact: \", cp.effectorsInContact())\n",
    "\n",
    "print(\"Is 'right-feet' in contact: \", cp.isEffectorInContact(\"right-feet\"))\n",
    "print(\"Is 'right-hand' in contact: \", cp.isEffectorInContact(\"right-hand\"))\n",
    "\n",
    "# Access the contact patch of a specific contact:\n",
    "print(\n",
    "    \"\\n Contact placement of the right feet: \\n\",\n",
    "    cp.contactPatch(\"right-feet\").placement,\n",
    ")"
   ]
  },
  {
   "cell_type": "markdown",
   "metadata": {},
   "source": [
    "The `map<EffectorName, ContactPatch>` can also be retrieved in Python as a Dictionary but this operation add a lot of overhead and should be avoided."
   ]
  },
  {
   "cell_type": "code",
   "execution_count": 9,
   "metadata": {},
   "outputs": [
    {
     "name": "stdout",
     "output_type": "stream",
     "text": [
      "effectors in contact:  dict_keys(['left-feet', 'right-feet'])\n"
     ]
    }
   ],
   "source": [
    "dict_patches = cp.contactPatches()\n",
    "print(\"effectors in contact: \", dict_patches.keys())"
   ]
  },
  {
   "cell_type": "markdown",
   "metadata": {},
   "source": [
    "The `ContactPhase` object also store different other optionnal data. For instance, a phase can be defined for a specific time interval:"
   ]
  },
  {
   "cell_type": "code",
   "execution_count": 28,
   "metadata": {},
   "outputs": [
    {
     "name": "stdout",
     "output_type": "stream",
     "text": [
      "Duration of the phase:  2.5\n"
     ]
    }
   ],
   "source": [
    "cp.timeInitial = 1.0\n",
    "cp.timeFinal = 3.5\n",
    "print(\"Duration of the phase: \", cp.duration)"
   ]
  },
  {
   "cell_type": "markdown",
   "metadata": {},
   "source": [
    "#### Centroidal data\n",
    "Optionnaly, a Contact Phase can store data related to the centroidal dynamic. It store the following initial and final values as public member:"
   ]
  },
  {
   "cell_type": "code",
   "execution_count": 11,
   "metadata": {},
   "outputs": [],
   "source": [
    "# Initial values: the values at the beginning of the phase\n",
    "cp.c_init = np.random.rand(3)  # CoM position\n",
    "cp.dc_init = np.random.rand(3)  # CoM velocity\n",
    "cp.ddc_init = np.random.rand(3)  # CoM acceleration\n",
    "cp.L_init = np.random.rand(3)  # Angular momentum\n",
    "cp.dL_init = np.random.rand(3)  # Angular momentum time derivative\n",
    "# Final values: the values at the end of the phase:\n",
    "cp.c_final = np.random.rand(3)\n",
    "cp.dc_final = np.random.rand(3)\n",
    "cp.ddc_final = np.random.rand(3)\n",
    "cp.L_final = np.random.rand(3)\n",
    "cp.dL_final = np.random.rand(3)"
   ]
  },
  {
   "cell_type": "markdown",
   "metadata": {},
   "source": [
    "In addition to the initial and final values, a ContactPhase can store a trajectory for all of the following data:\n",
    "```Python\n",
    "cp.c_t # the CoM trajectory (dimension 3)\n",
    "cp.dc_t # the CoM velocity (dimension 3)\n",
    "cp.ddc_t # the CoM acceleration (dimension 3)\n",
    "cp.L_t #  the Angular Momentum (dimension 3)\n",
    "cp.dL_t # the Angular Momentum time derivative (dimension 3)\n",
    "cp.wrench_t # the centroidal wrench (dimension 6)\n",
    "cp.zmp_t # the Zero Moment Point (dimension 3)\n",
    "cp.root_t # the base position and orientation (in SE3)\n",
    "```\n",
    "\n",
    "All of this trajectories are represented with objects from the NDCurves library (https://github.com/loco-3d/ndcurves). Example below add a third order polynomial trajectory as the CoM position:"
   ]
  },
  {
   "cell_type": "code",
   "execution_count": 12,
   "metadata": {},
   "outputs": [
    {
     "name": "stdout",
     "output_type": "stream",
     "text": [
      "CoM position at t=2. :  [1.46198335 2.86437628 1.58724145]\n"
     ]
    }
   ],
   "source": [
    "import ndcurves\n",
    "from ndcurves import polynomial\n",
    "\n",
    "coefs = np.random.rand(\n",
    "    3, 4\n",
    ")  # generate random coefficients for the polynomial: 4 3D points\n",
    "# build a 3rdf order polynomial of dimension 3 with random coefficients in a specific time interval:\n",
    "c_t = polynomial(coefs, cp.timeInitial, cp.timeFinal)\n",
    "\n",
    "cp.c_t = c_t\n",
    "\n",
    "print(\"CoM position at t=2. : \", cp.c_t(2.0))"
   ]
  },
  {
   "cell_type": "markdown",
   "metadata": {},
   "source": [
    "#### Whole body data\n",
    "\n",
    "A Contact Phase can also store data related to the wholebody motion, it store the initial and final wholebody configuration:\n",
    "```Python\n",
    "cp.q_init\n",
    "cp.q_final\n",
    "```\n",
    "\n",
    "As long as the following trajectories:\n",
    "```Python\n",
    "cp.q_t # joint trajectory\n",
    "cp.dq_t # joint velocity trajectory\n",
    "cp.ddq_t # joint acceleration trajectory\n",
    "cp.tau_t # joint torque trajectory\n",
    "```"
   ]
  },
  {
   "cell_type": "markdown",
   "metadata": {},
   "source": [
    "#### Effectors data\n",
    "\n",
    "The `ContactPhase` class can also store the contact forces and contact normal forces, in a `map<String, curve_ptr>` with the effector name as Key. In order to add a contact force trajectory for an effector, this effector must be in contact (see subsection above to add contact to the phase)."
   ]
  },
  {
   "cell_type": "code",
   "execution_count": 13,
   "metadata": {},
   "outputs": [
    {
     "name": "stdout",
     "output_type": "stream",
     "text": [
      "Contact normal force at t=2. : [2.37947778]\n"
     ]
    }
   ],
   "source": [
    "coefs = np.random.rand(\n",
    "    1, 4\n",
    ")  # generate random coefficients for the polynomial: 4 1D points\n",
    "# build a 3rdf order polynomial of dimension 1 with random coefficients in a specific time interval:\n",
    "normal_force = polynomial(coefs, cp.timeInitial, cp.timeFinal)\n",
    "cp.addContactNormalForceTrajectory(\"right-feet\", normal_force)\n",
    "\n",
    "print(\"Contact normal force at t=2. :\", cp.contactNormalForce(\"right-feet\")(2.0))"
   ]
  },
  {
   "cell_type": "code",
   "execution_count": 14,
   "metadata": {},
   "outputs": [
    {
     "data": {
      "text/plain": [
       "True"
      ]
     },
     "execution_count": 14,
     "metadata": {},
     "output_type": "execute_result"
    }
   ],
   "source": [
    "coefs = np.random.rand(\n",
    "    12, 4\n",
    ")  # generate random coefficients for the polynomial: 4 12D points\n",
    "forces = polynomial(coefs, cp.timeInitial, cp.timeFinal)\n",
    "cp.addContactForceTrajectory(\"right-feet\", forces)"
   ]
  },
  {
   "cell_type": "markdown",
   "metadata": {},
   "source": [
    "The dimension of the trajectory for the contact forces is not fixed. It is up to the user to decide what is the representation of the forces stored. One of the main representation is to store the 3D force vector at each corner of the feet, leading to a curve of dimension 12. \n",
    "\n",
    "The `ContactModel` class provide the generator matrix that could be used to map this 12D contact forces to the 6D wrench expressed in the contact frame:"
   ]
  },
  {
   "cell_type": "code",
   "execution_count": 15,
   "metadata": {},
   "outputs": [
    {
     "ename": "ValueError",
     "evalue": "matmul: Input operand 1 has a mismatch in its core dimension 0, with gufunc signature (n?,k),(k,m?)->(n?,m?) (size 12 is different from 3)",
     "output_type": "error",
     "traceback": [
      "\u001b[0;31m---------------------------------------------------------------------------\u001b[0m",
      "\u001b[0;31mValueError\u001b[0m                                Traceback (most recent call last)",
      "\u001b[0;32m<ipython-input-15-d46b015998a2>\u001b[0m in \u001b[0;36m<module>\u001b[0;34m\u001b[0m\n\u001b[1;32m      1\u001b[0m \u001b[0mcontact_model\u001b[0m \u001b[0;34m=\u001b[0m \u001b[0mcp\u001b[0m\u001b[0;34m.\u001b[0m\u001b[0mcontactPatch\u001b[0m\u001b[0;34m(\u001b[0m\u001b[0;34m\"right-feet\"\u001b[0m\u001b[0;34m)\u001b[0m\u001b[0;34m.\u001b[0m\u001b[0mcontact_model\u001b[0m\u001b[0;34m\u001b[0m\u001b[0;34m\u001b[0m\u001b[0m\n\u001b[0;32m----> 2\u001b[0;31m \u001b[0mcontact_wrench\u001b[0m \u001b[0;34m=\u001b[0m \u001b[0mcontact_model\u001b[0m\u001b[0;34m.\u001b[0m\u001b[0mgeneratorMatrix\u001b[0m\u001b[0;34m(\u001b[0m\u001b[0;34m)\u001b[0m \u001b[0;34m@\u001b[0m \u001b[0mcp\u001b[0m\u001b[0;34m.\u001b[0m\u001b[0mcontactForce\u001b[0m\u001b[0;34m(\u001b[0m\u001b[0;34m\"right-feet\"\u001b[0m\u001b[0;34m)\u001b[0m\u001b[0;34m(\u001b[0m\u001b[0;36m2.\u001b[0m\u001b[0;34m)\u001b[0m\u001b[0;34m\u001b[0m\u001b[0;34m\u001b[0m\u001b[0m\n\u001b[0m\u001b[1;32m      3\u001b[0m \u001b[0;34m\u001b[0m\u001b[0m\n\u001b[1;32m      4\u001b[0m \u001b[0mprint\u001b[0m\u001b[0;34m(\u001b[0m\u001b[0;34m\"Contact wrench for right-feet at t=2. : \"\u001b[0m\u001b[0;34m,\u001b[0m \u001b[0mcontact_wrench\u001b[0m\u001b[0;34m)\u001b[0m\u001b[0;34m\u001b[0m\u001b[0;34m\u001b[0m\u001b[0m\n",
      "\u001b[0;31mValueError\u001b[0m: matmul: Input operand 1 has a mismatch in its core dimension 0, with gufunc signature (n?,k),(k,m?)->(n?,m?) (size 12 is different from 3)"
     ]
    }
   ],
   "source": [
    "contact_model = cp.contactPatch(\"right-feet\").contact_model\n",
    "contact_wrench = contact_model.generatorMatrix() @ cp.contactForce(\"right-feet\")(2.0)\n",
    "\n",
    "print(\"Contact wrench for right-feet at t=2. : \", contact_wrench)"
   ]
  },
  {
   "cell_type": "markdown",
   "metadata": {},
   "source": [
    "Finally, the contact phase can also store effector trajectory for the swinging limbs in a `map<String, curve_SE3_ptr>` with the effector name as Key. The effector cannot be in contact and have an effector trajectory."
   ]
  },
  {
   "cell_type": "code",
   "execution_count": 16,
   "metadata": {},
   "outputs": [
    {
     "name": "stdout",
     "output_type": "stream",
     "text": [
      "Left hand placement at t=2.5: \n",
      "   R =\n",
      "        1         0         0\n",
      "        0  0.587785 -0.809017\n",
      "        0  0.809017  0.587785\n",
      "  p = 2.24 -1.6 -0.3\n",
      "\n"
     ]
    }
   ],
   "source": [
    "from math import sqrt\n",
    "from ndcurves import SE3Curve\n",
    "\n",
    "# Build two SE3 for the initial/final placement of the feet:\n",
    "init_pose = SE3.Identity()\n",
    "end_pose = SE3.Identity()\n",
    "init_pose.translation = np.array([0.2, -0.7, 0.6])\n",
    "end_pose.translation = np.array([3.6, -2.2, -0.9])\n",
    "init_pose.rotation = Quaternion.Identity().matrix()\n",
    "end_pose.rotation = (\n",
    "    Quaternion(sqrt(2.0) / 2.0, sqrt(2.0) / 2.0, 0, 0).normalized().matrix()\n",
    ")\n",
    "# Build a curve in SE3 doing a linear interpolation between this two placements:\n",
    "eff_HL = SE3Curve(init_pose, end_pose, cp.timeInitial, cp.timeFinal)\n",
    "\n",
    "cp.addEffectorTrajectory(\"left-hand\", eff_HL)\n",
    "print(\n",
    "    \"Left hand placement at t=2.5: \\n\",\n",
    "    cp.effectorTrajectory(\"left-hand\").evaluateAsSE3(2.5),\n",
    ")"
   ]
  },
  {
   "cell_type": "markdown",
   "metadata": {},
   "source": [
    "\n",
    "### Contact Sequence\n",
    "\n",
    "As soon as a creation or a rupture of contact point occurs the contact set is modified, defining a new contact phase.\n",
    "The concatenation of contact phases describes what we name a contact sequence, inside which all the contact phases have their own duration.\n",
    "\n",
    "A contact sequence is basically a Vector of Contact Phase, with several helper method which can be used to ease the creation of a Contact Sequence. \n",
    "\n",
    "One can either create a Contact sequence with a know number of contact Phase and correctly set the members of the Contact Phases with: "
   ]
  },
  {
   "cell_type": "code",
   "execution_count": 17,
   "metadata": {},
   "outputs": [
    {
     "name": "stdout",
     "output_type": "stream",
     "text": [
      "CoM position at the beginning of the first phase:  [0.21871697 0.86272939 0.97332564]\n",
      "CoM position at the end of the second phase:  [1.   0.   0.85]\n"
     ]
    }
   ],
   "source": [
    "from multicontact_api import ContactSequence\n",
    "\n",
    "cs = ContactSequence(3)\n",
    "\n",
    "cs.contactPhases[0] = cp  # assign the phase defined below as the first one\n",
    "print(\"CoM position at the beginning of the first phase: \", cs.contactPhases[0].c_init)\n",
    "\n",
    "cp1 = cs.contactPhases[1]\n",
    "cp1.c_final = np.array([1.0, 0.0, 0.85])\n",
    "print(\"CoM position at the end of the second phase: \", cs.contactPhases[1].c_final)"
   ]
  },
  {
   "cell_type": "markdown",
   "metadata": {},
   "source": [
    "Or simply append new Contact Phase at the end of the current Contact Sequence:"
   ]
  },
  {
   "cell_type": "code",
   "execution_count": 18,
   "metadata": {},
   "outputs": [
    {
     "name": "stdout",
     "output_type": "stream",
     "text": [
      "CoM position at the end of the last phase:  [5.   0.   0.85]\n"
     ]
    }
   ],
   "source": [
    "cp3 = ContactPhase()\n",
    "cp3.c_final = np.array([5, 0, 0.85])\n",
    "\n",
    "cs.append(cp3)\n",
    "print(\"CoM position at the end of the last phase: \", cs.contactPhases[-1].c_final)"
   ]
  },
  {
   "cell_type": "markdown",
   "metadata": {},
   "source": [
    "**Helper methods to check a contact sequence**\n",
    "\n",
    "The ContactSequence class contains several methods to check if the sequence contains some of the optional data, and if they are consistents across all the contact phases. \n",
    "This methods should be used in order to check if a ContactSequence object given as input to your algorithm have been correctly initialized with all the data that you are going to use in your algorithm. \n",
    "It may also be used to check if your algorithm output consistent data. \n",
    "\n",
    "Examples of such methods are `haveCentroidalTrajectories` which check that the (c, dc, ddc, L, dL) have been initialized, have the correct duration, and that each trajectories of one phase correctly end at the same value as it begin in the next phase. Here is the list of all such methods:\n",
    "\n",
    "\n",
    "* `haveConsistentContacts` check that there is always one contact change between adjacent phases in the\n",
    "sequence and that there isn't any phase without any contact.\n",
    "* `haveCOMvalues` Check that the initial and final CoM position values are defined for all phases\n",
    "Also check that the initial values of one phase correspond to the final values of the previous ones.\n",
    "* `haveAMvalues` Check that the initial and final AM values are defined for all phases\n",
    "Also check that the initial values of one phase correspond to the final values of the previous ones.\n",
    "* `haveCentroidalValue`s Check that the initial and final CoM position and AM values are defined for all phases\n",
    "Also check that the initial values of one phase correspond to the final values of the previous ones.\n",
    "* `haveConfigurationsValues` Check that the initial and final configuration are defined for all phases\n",
    "Also check that the initial values of one phase correspond to the final values of the previous ones.\n",
    "* `haveCOMtrajectories` check that a c, dc and ddc trajectories are defined for each phases\n",
    "Also check that the time interval of this trajectories matches the one of the phase\n",
    "and that the trajectories start and end and the correct values defined in each phase\n",
    "* `haveAMtrajectories` check that a L and dL trajectories are defined for each phases\n",
    "Also check that the time interval of this trajectories matches the one of the phase\n",
    "and that the trajectories start and end and the correct values defined in each phase\n",
    "* `haveCentroidalTrajectories` check that all centroidal trajectories are defined for each phases\n",
    "Also check that the time interval of this trajectories matches the one of the phase\n",
    "and that the trajectories start and end and the correct values defined in each phase\n",
    "* `haveEffectorsTrajectories` check that for each phase preceeding a contact creation,\n",
    " an SE3 trajectory is defined for the effector that will be in contact.\n",
    "Also check that this trajectory is defined on the time-interval of the phase.\n",
    "Also check that the trajectory correctly end at the placement defined for the contact in the next phase.\n",
    "If this effector was in contact in the previous phase, it check that the trajectory start at the previous contact\n",
    "placement.\n",
    "* `haveJointsTrajectories` Check that a q trajectory is defined for each phases\n",
    "Also check that the time interval of this trajectories matches the one of the phase\n",
    "and that the trajectories start and end and the correct values defined in each phase\n",
    "* `haveJointsDerivativesTrajectories` Check that a dq and ddq trajectories are defined for each phases\n",
    "Also check that the time interval of this trajectories matches the one of the phase\n",
    "and that the trajectories start and end and the correct values defined in each phase\n",
    "* `haveJointsTrajectorie`s Check that a joint torque trajectories are defined for each phases\n",
    "Also check that the time interval of this trajectories matches the one of the phase\n",
    "and that the trajectories start and end and the correct values defined in each phase\n",
    "* `haveJointsTrajectories` Check that a contact force trajectory exist for each active contact\n",
    "Also check that the time interval of this trajectories matches the one of the phase\n",
    "and that the trajectories start and end and the correct values defined in each phase\n",
    "* `haveRootTrajectories` check that a root trajectory exist for each contact phases.\n",
    "Also check that it start and end at the correct time interval\n",
    "* `haveFriction` check that all the contact patch used in the sequence have\n",
    "a friction coefficient initialized\n",
    "* `haveContactModelDefined` check that all the contact patch have a contact_model defined\n",
    "* `haveZMPtrajectories check` that all the contact phases have a zmp trajectory\n",
    "\n",
    "\n",
    "**Helper methods to access Data**\n",
    "\n",
    "The ContactSequence class also contains methods for easier access to the data contained in the ContactPhase vector. For example, `phaseAtTime` or `phaseIdAtTime` can be used to access a specific ContactPhase at a given time.\n",
    "`getAllEffectorsInContact` output all the effectors used to create contact during the sequence. \n",
    "\n",
    "Finally, methods exists to return the complete trajectory along the contact sequence, concatenating the trajectories of each phases (eg. `concatenateCtrajectories` return the complete c(t) trajectory for all the contact sequence). More details on this can be found on the Third notebook: load_from_file. \n"
   ]
  },
  {
   "cell_type": "markdown",
   "metadata": {},
   "source": [
    "## Going further\n",
    "\n",
    "Several helper methods have been added to the ContactSequence class to ease the contact creation process. See the next notebook for more information about this.\n",
    "\n",
    "As said in the introduction, all the classes of this package can be serialized. The third notebook shows how to load a ContactSequence serialized and how to access some of the data, eg. plotting the centroidal trajectory or displaying the wholebody motion stored. "
   ]
  }
 ],
 "metadata": {
  "kernelspec": {
   "display_name": "Python 3",
   "language": "python",
   "name": "python3"
  },
  "language_info": {
   "codemirror_mode": {
    "name": "ipython",
    "version": 3
   },
   "file_extension": ".py",
   "mimetype": "text/x-python",
   "name": "python",
   "nbconvert_exporter": "python",
   "pygments_lexer": "ipython3",
   "version": "3.6.9"
  }
 },
 "nbformat": 4,
 "nbformat_minor": 4
}
